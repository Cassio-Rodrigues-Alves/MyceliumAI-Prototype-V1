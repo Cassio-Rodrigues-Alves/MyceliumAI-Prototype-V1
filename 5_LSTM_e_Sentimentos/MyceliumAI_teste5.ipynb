{
  "nbformat": 4,
  "nbformat_minor": 0,
  "metadata": {
    "colab": {
      "provenance": []
    },
    "kernelspec": {
      "name": "python3",
      "display_name": "Python 3"
    },
    "language_info": {
      "name": "python"
    }
  },
  "cells": [
    {
      "cell_type": "code",
      "source": [
        "# ======================================================================\n",
        "# CÉLULA ÚNICA, COMPLETA E CORRIGIDA\n",
        "# ======================================================================\n",
        "\n",
        "# --- Bloco 0: Importações e Limpeza de Sessão ---\n",
        "import tensorflow as tf\n",
        "from tensorflow.keras import layers, models, callbacks, backend as K\n",
        "from tensorflow.keras.preprocessing.text import Tokenizer\n",
        "from tensorflow.keras.preprocessing.sequence import pad_sequences\n",
        "from tensorflow.keras.utils import to_categorical\n",
        "import json\n",
        "import numpy as np\n",
        "import os\n",
        "\n",
        "# BOA PRÁTICA: Limpa a sessão do Keras para evitar conflitos de nomes de execuções anteriores.\n",
        "K.clear_session()\n",
        "\n",
        "# --- Bloco 1: Definição das Camadas Customizadas \"Anônimas\" ---\n",
        "\n",
        "# A classe 'No', otimizada para não gerenciar nomes internamente.\n",
        "class No(layers.Layer):\n",
        "    def __init__(self, layers_config, **kwargs):\n",
        "        super(No, self).__init__(**kwargs)\n",
        "        self.layers_config = layers_config\n",
        "        self.internal_layers = []\n",
        "        self.add_layer = layers.Add()\n",
        "        for i, layer_info in enumerate(self.layers_config):\n",
        "            # Deixamos o Keras nomear as camadas internas para garantir nomes únicos e válidos.\n",
        "            self.internal_layers.append(\n",
        "                getattr(layers, layer_info['type'])(**layer_info['config'])\n",
        "            )\n",
        "\n",
        "    def call(self, inputs):\n",
        "        tensor_atual = inputs\n",
        "        # Se a entrada for uma lista de tensores (ex: vinda da camada Add),\n",
        "        # a camada 'add_layer' os soma antes de prosseguir.\n",
        "        if isinstance(inputs, list) and len(inputs) > 1:\n",
        "            tensor_atual = self.add_layer(inputs)\n",
        "\n",
        "        # Aplica as camadas internas em sequência\n",
        "        for layer in self.internal_layers:\n",
        "            tensor_atual = layer(tensor_atual)\n",
        "        return tensor_atual\n",
        "\n",
        "    def get_config(self):\n",
        "        config = super(No, self).get_config()\n",
        "        config.update({\"layers_config\": self.layers_config})\n",
        "        return config\n",
        "\n",
        "# A classe 'Caminho', sem alterações.\n",
        "class Caminho(layers.Layer):\n",
        "    def __init__(self, **kwargs):\n",
        "        super(Caminho, self).__init__(**kwargs)\n",
        "\n",
        "    def build(self, input_shape):\n",
        "        feature_dim = input_shape[-1]\n",
        "        self.kernel = self.add_weight(shape=(feature_dim,), initializer=\"glorot_uniform\", trainable=True, name=\"kernel\")\n",
        "        self.bias = self.add_weight(shape=(feature_dim,), initializer=\"zeros\", trainable=True, name=\"bias\")\n",
        "\n",
        "    def call(self, inputs):\n",
        "        return (inputs * self.kernel) + self.bias\n",
        "\n",
        "    def get_config(self):\n",
        "        config = super(Caminho, self).get_config()\n",
        "        return config\n",
        "\n",
        "# --- Bloco 2: Preparação dos Dados ---\n",
        "\n",
        "# Criando um dataset de exemplo para que o código seja executável\n",
        "dummy_dataset = [\n",
        "    {\"texto\": \"este produto é incrível e funciona bem\", \"intencao\": \"positivo\"},\n",
        "    {\"texto\": \"não gostei, quebrou no primeiro dia\", \"intencao\": \"negativo\"},\n",
        "    {\"texto\": \"atendimento ao cliente foi horrível\", \"intencao\": \"negativo\"},\n",
        "    {\"texto\": \"recomendo fortemente a todos\", \"intencao\": \"positivo\"},\n",
        "    {\"texto\": \"poderia ser melhor, mas é aceitável\", \"intencao\": \"neutro\"},\n",
        "    {\"texto\": \"o preço é justo pela qualidade\", \"intencao\": \"neutro\"},\n",
        "    {\"texto\": \"superou minhas expectativas\", \"intencao\": \"positivo\"},\n",
        "    {\"texto\": \"decepcionado com a compra\", \"intencao\": \"negativo\"},\n",
        "    {\"texto\": \"é um item ok, nem bom nem ruim\", \"intencao\": \"neutro\"},\n",
        "    {\"texto\": \"a entrega foi muito rápida\", \"intencao\": \"positivo\"}\n",
        "] * 10 # Multiplicar para ter um volume mínimo para treino\n",
        "\n",
        "# Salva o dataset em um arquivo JSON\n",
        "with open('dataset_para_treino.json', 'w', encoding='utf-8') as f:\n",
        "    json.dump(dummy_dataset, f, ensure_ascii=False, indent=4)\n",
        "\n",
        "# Carrega os dados\n",
        "with open('dataset_para_treino.json', 'r', encoding='utf-8') as f:\n",
        "    dataset = json.load(f)\n",
        "\n",
        "# Extrai textos e intenções\n",
        "textos = [item['texto'] for item in dataset]\n",
        "intencoes = [item['intencao'] for item in dataset]\n",
        "\n",
        "# Mapeia intenções para índices e vice-versa\n",
        "mapa_intencoes = {intencao: i for i, intencao in enumerate(set(intencoes))}\n",
        "mapa_indices = {i: intencao for intencao, i in mapa_intencoes.items()}\n",
        "num_classes = len(mapa_intencoes)\n",
        "\n",
        "# Tokeniza os textos\n",
        "MAX_WORDS = 1000\n",
        "tokenizer = Tokenizer(num_words=MAX_WORDS, oov_token=\"<OOV>\")\n",
        "tokenizer.fit_on_texts(textos)\n",
        "sequencias = tokenizer.texts_to_sequences(textos)\n",
        "vocab_size = len(tokenizer.word_index) + 1\n",
        "\n",
        "# Padroniza o comprimento das sequências\n",
        "MAX_LEN = 20\n",
        "entradas = pad_sequences(sequencias, maxlen=MAX_LEN, padding='post', truncating='post')\n",
        "\n",
        "# Converte as saídas para o formato categórico (one-hot encoding)\n",
        "saidas_indices = np.array([mapa_intencoes[i] for i in intencoes])\n",
        "saidas = to_categorical(saidas_indices, num_classes=num_classes)\n",
        "\n",
        "# Divide em treino e teste\n",
        "tamanho_teste = int(len(entradas) * 0.2)\n",
        "xs_treino, xs_teste = entradas[:-tamanho_teste], entradas[-tamanho_teste:]\n",
        "ys_treino, ys_teste = saidas[:-tamanho_teste], saidas[-tamanho_teste:]\n",
        "\n",
        "print(f\"Dados prontos: {len(xs_treino)} amostras de treino, {len(xs_teste)} de teste.\")\n",
        "print(f\"Vocabulário: {vocab_size} palavras. Classes: {num_classes}.\")\n",
        "\n",
        "\n",
        "# --- Bloco 3: Definição das Arquiteturas \"Anônimas\" ---\n",
        "\n",
        "def construir_myceliumai_anonima(vocab_size, embedding_dim, max_len, num_classes):\n",
        "    input_layer = layers.Input(shape=(max_len,))\n",
        "\n",
        "    # Todas as camadas agora são anônimas (sem o parâmetro 'name')\n",
        "    embedding_layer = layers.Embedding(input_dim=vocab_size, output_dim=embedding_dim)\n",
        "    lstm1_layer = layers.LSTM(32, return_sequences=True)\n",
        "    lstm2_layer = layers.LSTM(32)\n",
        "    no_entrada_layer = No(layers_config=[{'type': 'Dense', 'config': {'units': 128, 'activation': 'relu'}}, {'type': 'Dropout', 'config': {'rate': 0.4}}])\n",
        "    caminho_a_layer = Caminho()\n",
        "    caminho_b_layer = Caminho()\n",
        "    no_oculto_a_layer = No(layers_config=[{'type': 'Dense', 'config': {'units': 64, 'activation': 'relu'}}])\n",
        "    no_oculto_b_layer = No(layers_config=[{'type': 'Dense', 'config': {'units': 64, 'activation': 'relu'}}])\n",
        "    add_layer = layers.Add()\n",
        "    no_agregador_layer = No(layers_config=[{'type': 'Dense', 'config': {'units': 32, 'activation': 'relu'}}])\n",
        "    no_saida_layer = No(layers_config=[{'type': 'Dense', 'config': {'units': num_classes, 'activation': 'softmax'}}])\n",
        "\n",
        "    x = embedding_layer(input_layer)\n",
        "    x = lstm1_layer(x)\n",
        "    x = lstm2_layer(x)\n",
        "    saida_no_entrada = no_entrada_layer(x)\n",
        "    ramo_a = caminho_a_layer(saida_no_entrada)\n",
        "    ramo_b = caminho_b_layer(saida_no_entrada)\n",
        "    saida_oculto_a = no_oculto_a_layer(ramo_a)\n",
        "    saida_oculto_b = no_oculto_b_layer(ramo_b)\n",
        "    agregado = add_layer([saida_oculto_a, saida_oculto_b])\n",
        "    saida_agregador = no_agregador_layer(agregado)\n",
        "    output_final = no_saida_layer(saida_agregador)\n",
        "\n",
        "    # O modelo também é criado sem um nome explícito\n",
        "    model = models.Model(inputs=input_layer, outputs=output_final)\n",
        "    model.compile(optimizer='adam', loss='categorical_crossentropy', metrics=['accuracy'])\n",
        "    return model\n",
        "\n",
        "def construir_modelo_padrao(vocab_size, embedding_dim, max_len, num_classes):\n",
        "    model = models.Sequential([\n",
        "        # Camadas também anônimas\n",
        "        layers.Embedding(input_dim=vocab_size, output_dim=embedding_dim, input_length=max_len),\n",
        "        layers.LSTM(32, return_sequences=True),\n",
        "        layers.LSTM(32),\n",
        "        layers.Dense(32, activation='relu'),\n",
        "        layers.Dropout(0.5),\n",
        "        layers.Dense(num_classes, activation='softmax')\n",
        "    ])\n",
        "    model.compile(optimizer='adam', loss='categorical_crossentropy', metrics=['accuracy'])\n",
        "    return model\n",
        "\n",
        "# ======================================================================\n",
        "# Bloco 4: O Duelo Final (Usando as funções anônimas)\n",
        "# ======================================================================\n",
        "model_micelial = construir_myceliumai_anonima(vocab_size, 64, MAX_LEN, num_classes)\n",
        "model_padrao = construir_modelo_padrao(vocab_size, 64, MAX_LEN, num_classes)\n",
        "\n",
        "print(\"### MyceliumAI (Anônima) ###\")\n",
        "model_micelial.summary()\n",
        "print(\"\\n### Modelo Padrão ###\")\n",
        "model_padrao.summary()\n",
        "\n",
        "early_stopping = callbacks.EarlyStopping(monitor='val_accuracy', patience=5, restore_best_weights=True, verbose=1)\n",
        "\n",
        "print(\"\\n--- Treinando MyceliumAI (Anônima) ---\")\n",
        "history_micelial = model_micelial.fit(\n",
        "    xs_treino, ys_treino,\n",
        "    epochs=50,\n",
        "    batch_size=32,\n",
        "    validation_data=(xs_teste, ys_teste),\n",
        "    callbacks=[early_stopping],\n",
        "    verbose=1\n",
        ")\n",
        "\n",
        "print(\"\\n--- Treinando Modelo Padrão ---\")\n",
        "history_padrao = model_padrao.fit(\n",
        "    xs_treino, ys_treino,\n",
        "    epochs=50,\n",
        "    batch_size=32,\n",
        "    validation_data=(xs_teste, ys_teste),\n",
        "    callbacks=[early_stopping],\n",
        "    verbose=1\n",
        ")\n",
        "\n",
        "# Pega a melhor acurácia de validação que cada modelo atingiu durante o treino\n",
        "acc_micelial = np.max(history_micelial.history['val_accuracy']) if history_micelial.history['val_accuracy'] else 0\n",
        "acc_padrao = np.max(history_padrao.history['val_accuracy']) if history_padrao.history['val_accuracy'] else 0\n",
        "\n",
        "print(\"\\n========================================\")\n",
        "print(\"          PLACAR FINAL DA BATALHA\")\n",
        "print(\"========================================\")\n",
        "print(f\"  MELHOR ACURÁCIA MYCELIUMAI: {acc_micelial*100:.2f}%\")\n",
        "print(f\"  MELHOR ACURÁCIA REDE PADRÃO: {acc_padrao*100:.2f}%\")\n",
        "print(\"========================================\")\n",
        "\n",
        "if acc_micelial > acc_padrao:\n",
        "    print(\"\\nA Mycelium AI se mostrou mais eficaz neste caso\")\n",
        "elif acc_padrao > acc_micelial:\n",
        "    print(\"\\n🏁 A Rede Padrão se mostrou mais eficaz neste caso.\")\n",
        "else:\n",
        "    print(\"\\n🤝 Empate técnico! Um resultado impressionante.\")\n",
        "\n",
        "# ======================================================================\n",
        "# BLOCO 5: SALVANDO O MODELO CAMPEÃO\n",
        "# ======================================================================\n",
        "\n",
        "# Vamos salvar o modelo que teve a melhor performance, seja ele qual for.\n",
        "print(\"\\n--- Salvando o modelo com a melhor performance ---\")\n",
        "\n",
        "if acc_micelial >= acc_padrao:\n",
        "    print(\"O campeão é a MyceliumAI! Salvando o modelo...\")\n",
        "    modelo_final = model_micelial\n",
        "else:\n",
        "    print(\"O campeão é a Rede Padrão! Salvando o modelo...\")\n",
        "    modelo_final = model_padrao\n",
        "\n",
        "# Salva o modelo no formato Keras nativo, que é o mais robusto.\n",
        "modelo_final.save(\"modelo_sentimentos_campeao.keras\")\n",
        "\n",
        "# Também precisamos salvar o Tokenizer, que é o nosso \"dicionário\".\n",
        "import pickle\n",
        "\n",
        "with open('tokenizer.pickle', 'wb') as handle:\n",
        "    pickle.dump(tokenizer, handle, protocol=pickle.HIGHEST_PROTOCOL)\n",
        "\n",
        "print(\"\\n✅ Modelo ('modelo_sentimentos_campeao.keras') e Tokenizer ('tokenizer.pickle') salvos com sucesso!\")"
      ],
      "metadata": {
        "colab": {
          "base_uri": "https://localhost:8080/",
          "height": 1000
        },
        "id": "76SI0Mv4MbGT",
        "outputId": "915061d5-d097-4b0e-b61e-c69ba9085103"
      },
      "execution_count": 2,
      "outputs": [
        {
          "output_type": "stream",
          "name": "stdout",
          "text": [
            "Dados prontos: 80 amostras de treino, 20 de teste.\n",
            "Vocabulário: 49 palavras. Classes: 3.\n",
            "### MyceliumAI (Anônima) ###\n"
          ]
        },
        {
          "output_type": "display_data",
          "data": {
            "text/plain": [
              "\u001b[1mModel: \"functional\"\u001b[0m\n"
            ],
            "text/html": [
              "<pre style=\"white-space:pre;overflow-x:auto;line-height:normal;font-family:Menlo,'DejaVu Sans Mono',consolas,'Courier New',monospace\"><span style=\"font-weight: bold\">Model: \"functional\"</span>\n",
              "</pre>\n"
            ]
          },
          "metadata": {}
        },
        {
          "output_type": "display_data",
          "data": {
            "text/plain": [
              "┏━━━━━━━━━━━━━━━━━━━━━┳━━━━━━━━━━━━━━━━━━━┳━━━━━━━━━━━━┳━━━━━━━━━━━━━━━━━━━┓\n",
              "┃\u001b[1m \u001b[0m\u001b[1mLayer (type)       \u001b[0m\u001b[1m \u001b[0m┃\u001b[1m \u001b[0m\u001b[1mOutput Shape     \u001b[0m\u001b[1m \u001b[0m┃\u001b[1m \u001b[0m\u001b[1m   Param #\u001b[0m\u001b[1m \u001b[0m┃\u001b[1m \u001b[0m\u001b[1mConnected to     \u001b[0m\u001b[1m \u001b[0m┃\n",
              "┡━━━━━━━━━━━━━━━━━━━━━╇━━━━━━━━━━━━━━━━━━━╇━━━━━━━━━━━━╇━━━━━━━━━━━━━━━━━━━┩\n",
              "│ input_layer         │ (\u001b[38;5;45mNone\u001b[0m, \u001b[38;5;34m20\u001b[0m)        │          \u001b[38;5;34m0\u001b[0m │ -                 │\n",
              "│ (\u001b[38;5;33mInputLayer\u001b[0m)        │                   │            │                   │\n",
              "├─────────────────────┼───────────────────┼────────────┼───────────────────┤\n",
              "│ embedding           │ (\u001b[38;5;45mNone\u001b[0m, \u001b[38;5;34m20\u001b[0m, \u001b[38;5;34m64\u001b[0m)    │      \u001b[38;5;34m3,136\u001b[0m │ input_layer[\u001b[38;5;34m0\u001b[0m][\u001b[38;5;34m0\u001b[0m] │\n",
              "│ (\u001b[38;5;33mEmbedding\u001b[0m)         │                   │            │                   │\n",
              "├─────────────────────┼───────────────────┼────────────┼───────────────────┤\n",
              "│ lstm (\u001b[38;5;33mLSTM\u001b[0m)         │ (\u001b[38;5;45mNone\u001b[0m, \u001b[38;5;34m20\u001b[0m, \u001b[38;5;34m32\u001b[0m)    │     \u001b[38;5;34m12,416\u001b[0m │ embedding[\u001b[38;5;34m0\u001b[0m][\u001b[38;5;34m0\u001b[0m]   │\n",
              "├─────────────────────┼───────────────────┼────────────┼───────────────────┤\n",
              "│ lstm_1 (\u001b[38;5;33mLSTM\u001b[0m)       │ (\u001b[38;5;45mNone\u001b[0m, \u001b[38;5;34m32\u001b[0m)        │      \u001b[38;5;34m8,320\u001b[0m │ lstm[\u001b[38;5;34m0\u001b[0m][\u001b[38;5;34m0\u001b[0m]        │\n",
              "├─────────────────────┼───────────────────┼────────────┼───────────────────┤\n",
              "│ no (\u001b[38;5;33mNo\u001b[0m)             │ (\u001b[38;5;45mNone\u001b[0m, \u001b[38;5;34m128\u001b[0m)       │      \u001b[38;5;34m4,224\u001b[0m │ lstm_1[\u001b[38;5;34m0\u001b[0m][\u001b[38;5;34m0\u001b[0m]      │\n",
              "├─────────────────────┼───────────────────┼────────────┼───────────────────┤\n",
              "│ caminho (\u001b[38;5;33mCaminho\u001b[0m)   │ (\u001b[38;5;45mNone\u001b[0m, \u001b[38;5;34m128\u001b[0m)       │        \u001b[38;5;34m256\u001b[0m │ no[\u001b[38;5;34m0\u001b[0m][\u001b[38;5;34m0\u001b[0m]          │\n",
              "├─────────────────────┼───────────────────┼────────────┼───────────────────┤\n",
              "│ caminho_1 (\u001b[38;5;33mCaminho\u001b[0m) │ (\u001b[38;5;45mNone\u001b[0m, \u001b[38;5;34m128\u001b[0m)       │        \u001b[38;5;34m256\u001b[0m │ no[\u001b[38;5;34m0\u001b[0m][\u001b[38;5;34m0\u001b[0m]          │\n",
              "├─────────────────────┼───────────────────┼────────────┼───────────────────┤\n",
              "│ no_1 (\u001b[38;5;33mNo\u001b[0m)           │ (\u001b[38;5;45mNone\u001b[0m, \u001b[38;5;34m64\u001b[0m)        │      \u001b[38;5;34m8,256\u001b[0m │ caminho[\u001b[38;5;34m0\u001b[0m][\u001b[38;5;34m0\u001b[0m]     │\n",
              "├─────────────────────┼───────────────────┼────────────┼───────────────────┤\n",
              "│ no_2 (\u001b[38;5;33mNo\u001b[0m)           │ (\u001b[38;5;45mNone\u001b[0m, \u001b[38;5;34m64\u001b[0m)        │      \u001b[38;5;34m8,256\u001b[0m │ caminho_1[\u001b[38;5;34m0\u001b[0m][\u001b[38;5;34m0\u001b[0m]   │\n",
              "├─────────────────────┼───────────────────┼────────────┼───────────────────┤\n",
              "│ add_3 (\u001b[38;5;33mAdd\u001b[0m)         │ (\u001b[38;5;45mNone\u001b[0m, \u001b[38;5;34m64\u001b[0m)        │          \u001b[38;5;34m0\u001b[0m │ no_1[\u001b[38;5;34m0\u001b[0m][\u001b[38;5;34m0\u001b[0m],       │\n",
              "│                     │                   │            │ no_2[\u001b[38;5;34m0\u001b[0m][\u001b[38;5;34m0\u001b[0m]        │\n",
              "├─────────────────────┼───────────────────┼────────────┼───────────────────┤\n",
              "│ no_3 (\u001b[38;5;33mNo\u001b[0m)           │ (\u001b[38;5;45mNone\u001b[0m, \u001b[38;5;34m32\u001b[0m)        │      \u001b[38;5;34m2,080\u001b[0m │ add_3[\u001b[38;5;34m0\u001b[0m][\u001b[38;5;34m0\u001b[0m]       │\n",
              "├─────────────────────┼───────────────────┼────────────┼───────────────────┤\n",
              "│ no_4 (\u001b[38;5;33mNo\u001b[0m)           │ (\u001b[38;5;45mNone\u001b[0m, \u001b[38;5;34m3\u001b[0m)         │         \u001b[38;5;34m99\u001b[0m │ no_3[\u001b[38;5;34m0\u001b[0m][\u001b[38;5;34m0\u001b[0m]        │\n",
              "└─────────────────────┴───────────────────┴────────────┴───────────────────┘\n"
            ],
            "text/html": [
              "<pre style=\"white-space:pre;overflow-x:auto;line-height:normal;font-family:Menlo,'DejaVu Sans Mono',consolas,'Courier New',monospace\">┏━━━━━━━━━━━━━━━━━━━━━┳━━━━━━━━━━━━━━━━━━━┳━━━━━━━━━━━━┳━━━━━━━━━━━━━━━━━━━┓\n",
              "┃<span style=\"font-weight: bold\"> Layer (type)        </span>┃<span style=\"font-weight: bold\"> Output Shape      </span>┃<span style=\"font-weight: bold\">    Param # </span>┃<span style=\"font-weight: bold\"> Connected to      </span>┃\n",
              "┡━━━━━━━━━━━━━━━━━━━━━╇━━━━━━━━━━━━━━━━━━━╇━━━━━━━━━━━━╇━━━━━━━━━━━━━━━━━━━┩\n",
              "│ input_layer         │ (<span style=\"color: #00d7ff; text-decoration-color: #00d7ff\">None</span>, <span style=\"color: #00af00; text-decoration-color: #00af00\">20</span>)        │          <span style=\"color: #00af00; text-decoration-color: #00af00\">0</span> │ -                 │\n",
              "│ (<span style=\"color: #0087ff; text-decoration-color: #0087ff\">InputLayer</span>)        │                   │            │                   │\n",
              "├─────────────────────┼───────────────────┼────────────┼───────────────────┤\n",
              "│ embedding           │ (<span style=\"color: #00d7ff; text-decoration-color: #00d7ff\">None</span>, <span style=\"color: #00af00; text-decoration-color: #00af00\">20</span>, <span style=\"color: #00af00; text-decoration-color: #00af00\">64</span>)    │      <span style=\"color: #00af00; text-decoration-color: #00af00\">3,136</span> │ input_layer[<span style=\"color: #00af00; text-decoration-color: #00af00\">0</span>][<span style=\"color: #00af00; text-decoration-color: #00af00\">0</span>] │\n",
              "│ (<span style=\"color: #0087ff; text-decoration-color: #0087ff\">Embedding</span>)         │                   │            │                   │\n",
              "├─────────────────────┼───────────────────┼────────────┼───────────────────┤\n",
              "│ lstm (<span style=\"color: #0087ff; text-decoration-color: #0087ff\">LSTM</span>)         │ (<span style=\"color: #00d7ff; text-decoration-color: #00d7ff\">None</span>, <span style=\"color: #00af00; text-decoration-color: #00af00\">20</span>, <span style=\"color: #00af00; text-decoration-color: #00af00\">32</span>)    │     <span style=\"color: #00af00; text-decoration-color: #00af00\">12,416</span> │ embedding[<span style=\"color: #00af00; text-decoration-color: #00af00\">0</span>][<span style=\"color: #00af00; text-decoration-color: #00af00\">0</span>]   │\n",
              "├─────────────────────┼───────────────────┼────────────┼───────────────────┤\n",
              "│ lstm_1 (<span style=\"color: #0087ff; text-decoration-color: #0087ff\">LSTM</span>)       │ (<span style=\"color: #00d7ff; text-decoration-color: #00d7ff\">None</span>, <span style=\"color: #00af00; text-decoration-color: #00af00\">32</span>)        │      <span style=\"color: #00af00; text-decoration-color: #00af00\">8,320</span> │ lstm[<span style=\"color: #00af00; text-decoration-color: #00af00\">0</span>][<span style=\"color: #00af00; text-decoration-color: #00af00\">0</span>]        │\n",
              "├─────────────────────┼───────────────────┼────────────┼───────────────────┤\n",
              "│ no (<span style=\"color: #0087ff; text-decoration-color: #0087ff\">No</span>)             │ (<span style=\"color: #00d7ff; text-decoration-color: #00d7ff\">None</span>, <span style=\"color: #00af00; text-decoration-color: #00af00\">128</span>)       │      <span style=\"color: #00af00; text-decoration-color: #00af00\">4,224</span> │ lstm_1[<span style=\"color: #00af00; text-decoration-color: #00af00\">0</span>][<span style=\"color: #00af00; text-decoration-color: #00af00\">0</span>]      │\n",
              "├─────────────────────┼───────────────────┼────────────┼───────────────────┤\n",
              "│ caminho (<span style=\"color: #0087ff; text-decoration-color: #0087ff\">Caminho</span>)   │ (<span style=\"color: #00d7ff; text-decoration-color: #00d7ff\">None</span>, <span style=\"color: #00af00; text-decoration-color: #00af00\">128</span>)       │        <span style=\"color: #00af00; text-decoration-color: #00af00\">256</span> │ no[<span style=\"color: #00af00; text-decoration-color: #00af00\">0</span>][<span style=\"color: #00af00; text-decoration-color: #00af00\">0</span>]          │\n",
              "├─────────────────────┼───────────────────┼────────────┼───────────────────┤\n",
              "│ caminho_1 (<span style=\"color: #0087ff; text-decoration-color: #0087ff\">Caminho</span>) │ (<span style=\"color: #00d7ff; text-decoration-color: #00d7ff\">None</span>, <span style=\"color: #00af00; text-decoration-color: #00af00\">128</span>)       │        <span style=\"color: #00af00; text-decoration-color: #00af00\">256</span> │ no[<span style=\"color: #00af00; text-decoration-color: #00af00\">0</span>][<span style=\"color: #00af00; text-decoration-color: #00af00\">0</span>]          │\n",
              "├─────────────────────┼───────────────────┼────────────┼───────────────────┤\n",
              "│ no_1 (<span style=\"color: #0087ff; text-decoration-color: #0087ff\">No</span>)           │ (<span style=\"color: #00d7ff; text-decoration-color: #00d7ff\">None</span>, <span style=\"color: #00af00; text-decoration-color: #00af00\">64</span>)        │      <span style=\"color: #00af00; text-decoration-color: #00af00\">8,256</span> │ caminho[<span style=\"color: #00af00; text-decoration-color: #00af00\">0</span>][<span style=\"color: #00af00; text-decoration-color: #00af00\">0</span>]     │\n",
              "├─────────────────────┼───────────────────┼────────────┼───────────────────┤\n",
              "│ no_2 (<span style=\"color: #0087ff; text-decoration-color: #0087ff\">No</span>)           │ (<span style=\"color: #00d7ff; text-decoration-color: #00d7ff\">None</span>, <span style=\"color: #00af00; text-decoration-color: #00af00\">64</span>)        │      <span style=\"color: #00af00; text-decoration-color: #00af00\">8,256</span> │ caminho_1[<span style=\"color: #00af00; text-decoration-color: #00af00\">0</span>][<span style=\"color: #00af00; text-decoration-color: #00af00\">0</span>]   │\n",
              "├─────────────────────┼───────────────────┼────────────┼───────────────────┤\n",
              "│ add_3 (<span style=\"color: #0087ff; text-decoration-color: #0087ff\">Add</span>)         │ (<span style=\"color: #00d7ff; text-decoration-color: #00d7ff\">None</span>, <span style=\"color: #00af00; text-decoration-color: #00af00\">64</span>)        │          <span style=\"color: #00af00; text-decoration-color: #00af00\">0</span> │ no_1[<span style=\"color: #00af00; text-decoration-color: #00af00\">0</span>][<span style=\"color: #00af00; text-decoration-color: #00af00\">0</span>],       │\n",
              "│                     │                   │            │ no_2[<span style=\"color: #00af00; text-decoration-color: #00af00\">0</span>][<span style=\"color: #00af00; text-decoration-color: #00af00\">0</span>]        │\n",
              "├─────────────────────┼───────────────────┼────────────┼───────────────────┤\n",
              "│ no_3 (<span style=\"color: #0087ff; text-decoration-color: #0087ff\">No</span>)           │ (<span style=\"color: #00d7ff; text-decoration-color: #00d7ff\">None</span>, <span style=\"color: #00af00; text-decoration-color: #00af00\">32</span>)        │      <span style=\"color: #00af00; text-decoration-color: #00af00\">2,080</span> │ add_3[<span style=\"color: #00af00; text-decoration-color: #00af00\">0</span>][<span style=\"color: #00af00; text-decoration-color: #00af00\">0</span>]       │\n",
              "├─────────────────────┼───────────────────┼────────────┼───────────────────┤\n",
              "│ no_4 (<span style=\"color: #0087ff; text-decoration-color: #0087ff\">No</span>)           │ (<span style=\"color: #00d7ff; text-decoration-color: #00d7ff\">None</span>, <span style=\"color: #00af00; text-decoration-color: #00af00\">3</span>)         │         <span style=\"color: #00af00; text-decoration-color: #00af00\">99</span> │ no_3[<span style=\"color: #00af00; text-decoration-color: #00af00\">0</span>][<span style=\"color: #00af00; text-decoration-color: #00af00\">0</span>]        │\n",
              "└─────────────────────┴───────────────────┴────────────┴───────────────────┘\n",
              "</pre>\n"
            ]
          },
          "metadata": {}
        },
        {
          "output_type": "display_data",
          "data": {
            "text/plain": [
              "\u001b[1m Total params: \u001b[0m\u001b[38;5;34m47,299\u001b[0m (184.76 KB)\n"
            ],
            "text/html": [
              "<pre style=\"white-space:pre;overflow-x:auto;line-height:normal;font-family:Menlo,'DejaVu Sans Mono',consolas,'Courier New',monospace\"><span style=\"font-weight: bold\"> Total params: </span><span style=\"color: #00af00; text-decoration-color: #00af00\">47,299</span> (184.76 KB)\n",
              "</pre>\n"
            ]
          },
          "metadata": {}
        },
        {
          "output_type": "display_data",
          "data": {
            "text/plain": [
              "\u001b[1m Trainable params: \u001b[0m\u001b[38;5;34m47,299\u001b[0m (184.76 KB)\n"
            ],
            "text/html": [
              "<pre style=\"white-space:pre;overflow-x:auto;line-height:normal;font-family:Menlo,'DejaVu Sans Mono',consolas,'Courier New',monospace\"><span style=\"font-weight: bold\"> Trainable params: </span><span style=\"color: #00af00; text-decoration-color: #00af00\">47,299</span> (184.76 KB)\n",
              "</pre>\n"
            ]
          },
          "metadata": {}
        },
        {
          "output_type": "display_data",
          "data": {
            "text/plain": [
              "\u001b[1m Non-trainable params: \u001b[0m\u001b[38;5;34m0\u001b[0m (0.00 B)\n"
            ],
            "text/html": [
              "<pre style=\"white-space:pre;overflow-x:auto;line-height:normal;font-family:Menlo,'DejaVu Sans Mono',consolas,'Courier New',monospace\"><span style=\"font-weight: bold\"> Non-trainable params: </span><span style=\"color: #00af00; text-decoration-color: #00af00\">0</span> (0.00 B)\n",
              "</pre>\n"
            ]
          },
          "metadata": {}
        },
        {
          "output_type": "stream",
          "name": "stdout",
          "text": [
            "\n",
            "### Modelo Padrão ###\n"
          ]
        },
        {
          "output_type": "display_data",
          "data": {
            "text/plain": [
              "\u001b[1mModel: \"sequential\"\u001b[0m\n"
            ],
            "text/html": [
              "<pre style=\"white-space:pre;overflow-x:auto;line-height:normal;font-family:Menlo,'DejaVu Sans Mono',consolas,'Courier New',monospace\"><span style=\"font-weight: bold\">Model: \"sequential\"</span>\n",
              "</pre>\n"
            ]
          },
          "metadata": {}
        },
        {
          "output_type": "display_data",
          "data": {
            "text/plain": [
              "┏━━━━━━━━━━━━━━━━━━━━━━━━━━━━━━━━━┳━━━━━━━━━━━━━━━━━━━━━━━━┳━━━━━━━━━━━━━━━┓\n",
              "┃\u001b[1m \u001b[0m\u001b[1mLayer (type)                   \u001b[0m\u001b[1m \u001b[0m┃\u001b[1m \u001b[0m\u001b[1mOutput Shape          \u001b[0m\u001b[1m \u001b[0m┃\u001b[1m \u001b[0m\u001b[1m      Param #\u001b[0m\u001b[1m \u001b[0m┃\n",
              "┡━━━━━━━━━━━━━━━━━━━━━━━━━━━━━━━━━╇━━━━━━━━━━━━━━━━━━━━━━━━╇━━━━━━━━━━━━━━━┩\n",
              "│ embedding_1 (\u001b[38;5;33mEmbedding\u001b[0m)         │ ?                      │   \u001b[38;5;34m0\u001b[0m (unbuilt) │\n",
              "├─────────────────────────────────┼────────────────────────┼───────────────┤\n",
              "│ lstm_2 (\u001b[38;5;33mLSTM\u001b[0m)                   │ ?                      │   \u001b[38;5;34m0\u001b[0m (unbuilt) │\n",
              "├─────────────────────────────────┼────────────────────────┼───────────────┤\n",
              "│ lstm_3 (\u001b[38;5;33mLSTM\u001b[0m)                   │ ?                      │   \u001b[38;5;34m0\u001b[0m (unbuilt) │\n",
              "├─────────────────────────────────┼────────────────────────┼───────────────┤\n",
              "│ dense_5 (\u001b[38;5;33mDense\u001b[0m)                 │ ?                      │   \u001b[38;5;34m0\u001b[0m (unbuilt) │\n",
              "├─────────────────────────────────┼────────────────────────┼───────────────┤\n",
              "│ dropout_1 (\u001b[38;5;33mDropout\u001b[0m)             │ ?                      │             \u001b[38;5;34m0\u001b[0m │\n",
              "├─────────────────────────────────┼────────────────────────┼───────────────┤\n",
              "│ dense_6 (\u001b[38;5;33mDense\u001b[0m)                 │ ?                      │   \u001b[38;5;34m0\u001b[0m (unbuilt) │\n",
              "└─────────────────────────────────┴────────────────────────┴───────────────┘\n"
            ],
            "text/html": [
              "<pre style=\"white-space:pre;overflow-x:auto;line-height:normal;font-family:Menlo,'DejaVu Sans Mono',consolas,'Courier New',monospace\">┏━━━━━━━━━━━━━━━━━━━━━━━━━━━━━━━━━┳━━━━━━━━━━━━━━━━━━━━━━━━┳━━━━━━━━━━━━━━━┓\n",
              "┃<span style=\"font-weight: bold\"> Layer (type)                    </span>┃<span style=\"font-weight: bold\"> Output Shape           </span>┃<span style=\"font-weight: bold\">       Param # </span>┃\n",
              "┡━━━━━━━━━━━━━━━━━━━━━━━━━━━━━━━━━╇━━━━━━━━━━━━━━━━━━━━━━━━╇━━━━━━━━━━━━━━━┩\n",
              "│ embedding_1 (<span style=\"color: #0087ff; text-decoration-color: #0087ff\">Embedding</span>)         │ ?                      │   <span style=\"color: #00af00; text-decoration-color: #00af00\">0</span> (unbuilt) │\n",
              "├─────────────────────────────────┼────────────────────────┼───────────────┤\n",
              "│ lstm_2 (<span style=\"color: #0087ff; text-decoration-color: #0087ff\">LSTM</span>)                   │ ?                      │   <span style=\"color: #00af00; text-decoration-color: #00af00\">0</span> (unbuilt) │\n",
              "├─────────────────────────────────┼────────────────────────┼───────────────┤\n",
              "│ lstm_3 (<span style=\"color: #0087ff; text-decoration-color: #0087ff\">LSTM</span>)                   │ ?                      │   <span style=\"color: #00af00; text-decoration-color: #00af00\">0</span> (unbuilt) │\n",
              "├─────────────────────────────────┼────────────────────────┼───────────────┤\n",
              "│ dense_5 (<span style=\"color: #0087ff; text-decoration-color: #0087ff\">Dense</span>)                 │ ?                      │   <span style=\"color: #00af00; text-decoration-color: #00af00\">0</span> (unbuilt) │\n",
              "├─────────────────────────────────┼────────────────────────┼───────────────┤\n",
              "│ dropout_1 (<span style=\"color: #0087ff; text-decoration-color: #0087ff\">Dropout</span>)             │ ?                      │             <span style=\"color: #00af00; text-decoration-color: #00af00\">0</span> │\n",
              "├─────────────────────────────────┼────────────────────────┼───────────────┤\n",
              "│ dense_6 (<span style=\"color: #0087ff; text-decoration-color: #0087ff\">Dense</span>)                 │ ?                      │   <span style=\"color: #00af00; text-decoration-color: #00af00\">0</span> (unbuilt) │\n",
              "└─────────────────────────────────┴────────────────────────┴───────────────┘\n",
              "</pre>\n"
            ]
          },
          "metadata": {}
        },
        {
          "output_type": "display_data",
          "data": {
            "text/plain": [
              "\u001b[1m Total params: \u001b[0m\u001b[38;5;34m0\u001b[0m (0.00 B)\n"
            ],
            "text/html": [
              "<pre style=\"white-space:pre;overflow-x:auto;line-height:normal;font-family:Menlo,'DejaVu Sans Mono',consolas,'Courier New',monospace\"><span style=\"font-weight: bold\"> Total params: </span><span style=\"color: #00af00; text-decoration-color: #00af00\">0</span> (0.00 B)\n",
              "</pre>\n"
            ]
          },
          "metadata": {}
        },
        {
          "output_type": "display_data",
          "data": {
            "text/plain": [
              "\u001b[1m Trainable params: \u001b[0m\u001b[38;5;34m0\u001b[0m (0.00 B)\n"
            ],
            "text/html": [
              "<pre style=\"white-space:pre;overflow-x:auto;line-height:normal;font-family:Menlo,'DejaVu Sans Mono',consolas,'Courier New',monospace\"><span style=\"font-weight: bold\"> Trainable params: </span><span style=\"color: #00af00; text-decoration-color: #00af00\">0</span> (0.00 B)\n",
              "</pre>\n"
            ]
          },
          "metadata": {}
        },
        {
          "output_type": "display_data",
          "data": {
            "text/plain": [
              "\u001b[1m Non-trainable params: \u001b[0m\u001b[38;5;34m0\u001b[0m (0.00 B)\n"
            ],
            "text/html": [
              "<pre style=\"white-space:pre;overflow-x:auto;line-height:normal;font-family:Menlo,'DejaVu Sans Mono',consolas,'Courier New',monospace\"><span style=\"font-weight: bold\"> Non-trainable params: </span><span style=\"color: #00af00; text-decoration-color: #00af00\">0</span> (0.00 B)\n",
              "</pre>\n"
            ]
          },
          "metadata": {}
        },
        {
          "output_type": "stream",
          "name": "stdout",
          "text": [
            "\n",
            "--- Treinando MyceliumAI (Anônima) ---\n",
            "Epoch 1/50\n",
            "\u001b[1m3/3\u001b[0m \u001b[32m━━━━━━━━━━━━━━━━━━━━\u001b[0m\u001b[37m\u001b[0m \u001b[1m7s\u001b[0m 362ms/step - accuracy: 0.3883 - loss: 1.0987 - val_accuracy: 0.4000 - val_loss: 1.0963\n",
            "Epoch 2/50\n",
            "\u001b[1m3/3\u001b[0m \u001b[32m━━━━━━━━━━━━━━━━━━━━\u001b[0m\u001b[37m\u001b[0m \u001b[1m0s\u001b[0m 54ms/step - accuracy: 0.3641 - loss: 1.0971 - val_accuracy: 0.4000 - val_loss: 1.0949\n",
            "Epoch 3/50\n",
            "\u001b[1m3/3\u001b[0m \u001b[32m━━━━━━━━━━━━━━━━━━━━\u001b[0m\u001b[37m\u001b[0m \u001b[1m0s\u001b[0m 52ms/step - accuracy: 0.3797 - loss: 1.0955 - val_accuracy: 0.4000 - val_loss: 1.0931\n",
            "Epoch 4/50\n",
            "\u001b[1m3/3\u001b[0m \u001b[32m━━━━━━━━━━━━━━━━━━━━\u001b[0m\u001b[37m\u001b[0m \u001b[1m0s\u001b[0m 71ms/step - accuracy: 0.3406 - loss: 1.0993 - val_accuracy: 0.4000 - val_loss: 1.0917\n",
            "Epoch 5/50\n",
            "\u001b[1m3/3\u001b[0m \u001b[32m━━━━━━━━━━━━━━━━━━━━\u001b[0m\u001b[37m\u001b[0m \u001b[1m0s\u001b[0m 52ms/step - accuracy: 0.4109 - loss: 1.0901 - val_accuracy: 0.4000 - val_loss: 1.0896\n",
            "Epoch 6/50\n",
            "\u001b[1m3/3\u001b[0m \u001b[32m━━━━━━━━━━━━━━━━━━━━\u001b[0m\u001b[37m\u001b[0m \u001b[1m0s\u001b[0m 52ms/step - accuracy: 0.3875 - loss: 1.0922 - val_accuracy: 0.4000 - val_loss: 1.0879\n",
            "Epoch 6: early stopping\n",
            "Restoring model weights from the end of the best epoch: 1.\n",
            "\n",
            "--- Treinando Modelo Padrão ---\n",
            "Epoch 1/50\n",
            "\u001b[1m3/3\u001b[0m \u001b[32m━━━━━━━━━━━━━━━━━━━━\u001b[0m\u001b[37m\u001b[0m \u001b[1m5s\u001b[0m 332ms/step - accuracy: 0.3672 - loss: 1.0982 - val_accuracy: 0.4000 - val_loss: 1.0927\n",
            "Epoch 2/50\n",
            "\u001b[1m3/3\u001b[0m \u001b[32m━━━━━━━━━━━━━━━━━━━━\u001b[0m\u001b[37m\u001b[0m \u001b[1m1s\u001b[0m 83ms/step - accuracy: 0.3695 - loss: 1.0879 - val_accuracy: 0.4000 - val_loss: 1.0875\n",
            "Epoch 3/50\n",
            "\u001b[1m3/3\u001b[0m \u001b[32m━━━━━━━━━━━━━━━━━━━━\u001b[0m\u001b[37m\u001b[0m \u001b[1m0s\u001b[0m 87ms/step - accuracy: 0.3719 - loss: 1.0880 - val_accuracy: 0.4000 - val_loss: 1.0821\n",
            "Epoch 4/50\n",
            "\u001b[1m3/3\u001b[0m \u001b[32m━━━━━━━━━━━━━━━━━━━━\u001b[0m\u001b[37m\u001b[0m \u001b[1m0s\u001b[0m 95ms/step - accuracy: 0.4109 - loss: 1.0873 - val_accuracy: 0.4000 - val_loss: 1.0773\n",
            "Epoch 5/50\n",
            "\u001b[1m3/3\u001b[0m \u001b[32m━━━━━━━━━━━━━━━━━━━━\u001b[0m\u001b[37m\u001b[0m \u001b[1m0s\u001b[0m 94ms/step - accuracy: 0.4187 - loss: 1.0667 - val_accuracy: 0.4000 - val_loss: 1.0714\n",
            "Epoch 6/50\n",
            "\u001b[1m3/3\u001b[0m \u001b[32m━━━━━━━━━━━━━━━━━━━━\u001b[0m\u001b[37m\u001b[0m \u001b[1m0s\u001b[0m 103ms/step - accuracy: 0.4227 - loss: 1.0634 - val_accuracy: 0.4000 - val_loss: 1.0603\n",
            "Epoch 6: early stopping\n",
            "Restoring model weights from the end of the best epoch: 1.\n",
            "\n",
            "========================================\n",
            "          PLACAR FINAL DA BATALHA\n",
            "========================================\n",
            "  MELHOR ACURÁCIA MYCELIUMAI: 40.00%\n",
            "  MELHOR ACURÁCIA REDE PADRÃO: 40.00%\n",
            "========================================\n",
            "\n",
            "🤝 Empate técnico! Um resultado impressionante.\n",
            "\n",
            "--- Salvando o modelo com a melhor performance ---\n",
            "O campeão é a MyceliumAI! Salvando o modelo...\n",
            "\n",
            "✅ Modelo ('modelo_sentimentos_campeao.keras') e Tokenizer ('tokenizer.pickle') salvos com sucesso!\n"
          ]
        }
      ]
    },
    {
      "cell_type": "code",
      "source": [],
      "metadata": {
        "id": "_46lEV9hgxYT"
      },
      "execution_count": null,
      "outputs": []
    }
  ]
}